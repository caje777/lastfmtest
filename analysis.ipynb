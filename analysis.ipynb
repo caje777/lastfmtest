import pandas as pd
import matplotlib.pyplot as plt

# Load data
data = pd.read_json('data.json')

# Extract relevant information
tracks = data['toptracks']['track']
df = pd.DataFrame(tracks)

# Plot the top tracks
df['playcount'] = df['playcount'].astype(int)
df = df.sort_values(by='playcount', ascending=False)
plt.figure(figsize=(10, 8))
plt.barh(df['name'], df['playcount'])
plt.xlabel('Play Count')
plt.title('Top Tracks of the Last Month')
plt.show()
